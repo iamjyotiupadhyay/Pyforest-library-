{
 "cells": [
  {
   "cell_type": "markdown",
   "id": "a2b5fdbc",
   "metadata": {},
   "source": [
    "# Installing Library"
   ]
  },
  {
   "cell_type": "code",
   "execution_count": 1,
   "id": "42cab145",
   "metadata": {},
   "outputs": [
    {
     "name": "stdout",
     "output_type": "stream",
     "text": [
      "Collecting pyforest\n",
      "  Downloading pyforest-1.1.0.tar.gz (15 kB)\n",
      "  Installing build dependencies ... \u001b[?25ldone\n",
      "\u001b[?25h  Getting requirements to build wheel ... \u001b[?25ldone\n",
      "\u001b[?25h  Preparing metadata (pyproject.toml) ... \u001b[?25ldone\n",
      "\u001b[?25hBuilding wheels for collected packages: pyforest\n",
      "  Building wheel for pyforest (pyproject.toml) ... \u001b[?25ldone\n",
      "\u001b[?25h  Created wheel for pyforest: filename=pyforest-1.1.0-py2.py3-none-any.whl size=14605 sha256=4a096a90c644fbffb584721afb80b5f0c3ca00b65e976d77890692bd6db7de11\n",
      "  Stored in directory: /Users/jyotiUpadhyay/Library/Caches/pip/wheels/9e/7d/2c/5d2f5e62de376c386fd3bf5a8e5bd119ace6a9f48f49df6017\n",
      "Successfully built pyforest\n",
      "Installing collected packages: pyforest\n",
      "Successfully installed pyforest-1.1.0\n",
      "\n",
      "\u001b[1m[\u001b[0m\u001b[34;49mnotice\u001b[0m\u001b[1;39;49m]\u001b[0m\u001b[39;49m A new release of pip is available: \u001b[0m\u001b[31;49m23.1.2\u001b[0m\u001b[39;49m -> \u001b[0m\u001b[32;49m23.2.1\u001b[0m\n",
      "\u001b[1m[\u001b[0m\u001b[34;49mnotice\u001b[0m\u001b[1;39;49m]\u001b[0m\u001b[39;49m To update, run: \u001b[0m\u001b[32;49mpython3 -m pip install --upgrade pip\u001b[0m\n",
      "Note: you may need to restart the kernel to use updated packages.\n"
     ]
    }
   ],
   "source": [
    "pip install pyforest"
   ]
  },
  {
   "cell_type": "markdown",
   "id": "ec52fd1e",
   "metadata": {},
   "source": [
    "# Exploring Pyforest "
   ]
  },
  {
   "cell_type": "code",
   "execution_count": 3,
   "id": "08c6ed27",
   "metadata": {},
   "outputs": [],
   "source": [
    "from pyforest import *"
   ]
  },
  {
   "cell_type": "code",
   "execution_count": 4,
   "id": "4e358d51",
   "metadata": {},
   "outputs": [
    {
     "data": {
      "text/plain": [
       "['import altair as alt',\n",
       " 'from sklearn.ensemble import GradientBoostingRegressor',\n",
       " 'from sklearn.linear_model import LassoCV',\n",
       " 'from openpyxl import load_workbook',\n",
       " 'from sklearn.model_selection import RandomizedSearchCV',\n",
       " 'from pathlib import Path',\n",
       " 'from sklearn.model_selection import KFold',\n",
       " 'import plotly.express as px',\n",
       " 'from scipy import signal as sg',\n",
       " 'from sklearn.feature_extraction.text import CountVectorizer',\n",
       " 'import tqdm',\n",
       " 'import torch',\n",
       " 'from sklearn.model_selection import train_test_split',\n",
       " 'import pandas as pd',\n",
       " 'import bokeh',\n",
       " 'import skimage',\n",
       " 'from sklearn.preprocessing import PolynomialFeatures',\n",
       " 'import nltk',\n",
       " 'import sklearn',\n",
       " 'from sklearn.manifold import TSNE',\n",
       " 'from statsmodels.tsa.arima_model import ARIMA',\n",
       " 'import keras',\n",
       " 'import plotly.graph_objs as go',\n",
       " 'from sklearn.linear_model import Lasso',\n",
       " 'from sklearn.linear_model import LogisticRegression',\n",
       " 'import seaborn as sns',\n",
       " 'from sklearn.cluster import KMeans',\n",
       " 'import matplotlib as mpl',\n",
       " 'from scipy import stats',\n",
       " 'import dash',\n",
       " 'from sklearn.linear_model import Ridge',\n",
       " 'from sklearn.preprocessing import OneHotEncoder',\n",
       " 'import pickle',\n",
       " 'import imutils',\n",
       " 'import numpy as np',\n",
       " 'import cv2',\n",
       " 'from sklearn.model_selection import cross_val_score',\n",
       " 'from sklearn.preprocessing import RobustScaler',\n",
       " 'import sys',\n",
       " 'import awswrangler as wr',\n",
       " 'from sklearn.linear_model import ElasticNet',\n",
       " 'from sklearn.model_selection import GridSearchCV',\n",
       " 'import matplotlib.pyplot as plt',\n",
       " 'import textblob',\n",
       " 'import datetime as dt',\n",
       " 'from xlrd import open_workbook',\n",
       " 'import statistics',\n",
       " 'from sklearn.ensemble import GradientBoostingClassifier',\n",
       " 'from sklearn.preprocessing import LabelEncoder',\n",
       " 'import glob',\n",
       " 'import gensim',\n",
       " 'import pydot',\n",
       " 'import tensorflow as tf',\n",
       " 'from pyspark import SparkContext',\n",
       " 'import xgboost as xgb',\n",
       " 'from sklearn.ensemble import RandomForestClassifier',\n",
       " 'import re',\n",
       " 'import plotly as py',\n",
       " 'import statsmodels.api as sm',\n",
       " 'import lightgbm as lgb',\n",
       " 'from sklearn.linear_model import LinearRegression',\n",
       " 'import fbprophet',\n",
       " 'from sklearn.linear_model import ElasticNetCV',\n",
       " 'from sklearn.model_selection import StratifiedKFold',\n",
       " 'from dask import dataframe as dd',\n",
       " 'from PIL import Image',\n",
       " 'from fbprophet import Prophet',\n",
       " 'from sklearn.feature_extraction.text import TfidfVectorizer',\n",
       " 'from sklearn import metrics',\n",
       " 'import os',\n",
       " 'from sklearn.ensemble import RandomForestRegressor',\n",
       " 'import fastai',\n",
       " 'from sklearn.linear_model import RidgeCV',\n",
       " 'import spacy',\n",
       " 'from sklearn import svm',\n",
       " 'from sklearn.impute import SimpleImputer',\n",
       " 'from sklearn.preprocessing import MinMaxScaler',\n",
       " 'from sklearn.decomposition import PCA',\n",
       " 'from sklearn.preprocessing import StandardScaler']"
      ]
     },
     "execution_count": 4,
     "metadata": {},
     "output_type": "execute_result"
    }
   ],
   "source": [
    "lazy_imports()"
   ]
  },
  {
   "cell_type": "raw",
   "id": "15e2e479",
   "metadata": {},
   "source": [
    "All the major python libraries including libraries for deep learning, machine learning, image processing, etc. were easily imported"
   ]
  },
  {
   "cell_type": "code",
   "execution_count": 5,
   "id": "a6d62698",
   "metadata": {},
   "outputs": [
    {
     "name": "stdout",
     "output_type": "stream",
     "text": [
      "\n"
     ]
    },
    {
     "data": {
      "text/plain": [
       "[]"
      ]
     },
     "execution_count": 5,
     "metadata": {},
     "output_type": "execute_result"
    }
   ],
   "source": [
    "active_imports()"
   ]
  },
  {
   "cell_type": "raw",
   "id": "139ec91e",
   "metadata": {},
   "source": [
    "The best part of this library is that it imports all the libraries with their standard conventions.\n",
    "For example, we generally import NumPy by using a convention as np, so this convention is already stored in the pyforest library"
   ]
  },
  {
   "cell_type": "markdown",
   "id": "06ada703",
   "metadata": {},
   "source": [
    "# Numpy"
   ]
  },
  {
   "cell_type": "code",
   "execution_count": 7,
   "id": "4bf19994",
   "metadata": {},
   "outputs": [
    {
     "data": {
      "application/javascript": [
       "\n",
       "        if (window._pyforest_update_imports_cell) { window._pyforest_update_imports_cell('import numpy as np'); }\n",
       "    "
      ],
      "text/plain": [
       "<IPython.core.display.Javascript object>"
      ]
     },
     "metadata": {},
     "output_type": "display_data"
    },
    {
     "name": "stdout",
     "output_type": "stream",
     "text": [
      "[[1 2 3]\n",
      " [5 6 7]]\n"
     ]
    }
   ],
   "source": [
    "A1 = np.array([[1,2,3],[5,6,7]])\n",
    "print(A1)"
   ]
  },
  {
   "cell_type": "markdown",
   "id": "4569315b",
   "metadata": {},
   "source": [
    "# Pandas "
   ]
  },
  {
   "cell_type": "code",
   "execution_count": 9,
   "id": "573b87f9",
   "metadata": {},
   "outputs": [],
   "source": [
    "dict = {'a':[1,2,4],'b':[4,6,7]}"
   ]
  },
  {
   "cell_type": "code",
   "execution_count": 11,
   "id": "0bdeec1f",
   "metadata": {},
   "outputs": [
    {
     "data": {
      "application/javascript": [
       "\n",
       "        if (window._pyforest_update_imports_cell) { window._pyforest_update_imports_cell('import pandas as pd\\nimport numpy as np'); }\n",
       "    "
      ],
      "text/plain": [
       "<IPython.core.display.Javascript object>"
      ]
     },
     "metadata": {},
     "output_type": "display_data"
    }
   ],
   "source": [
    "df = pd.DataFrame(dict)"
   ]
  },
  {
   "cell_type": "code",
   "execution_count": 12,
   "id": "75cd8297",
   "metadata": {},
   "outputs": [
    {
     "data": {
      "text/html": [
       "<div>\n",
       "<style scoped>\n",
       "    .dataframe tbody tr th:only-of-type {\n",
       "        vertical-align: middle;\n",
       "    }\n",
       "\n",
       "    .dataframe tbody tr th {\n",
       "        vertical-align: top;\n",
       "    }\n",
       "\n",
       "    .dataframe thead th {\n",
       "        text-align: right;\n",
       "    }\n",
       "</style>\n",
       "<table border=\"1\" class=\"dataframe\">\n",
       "  <thead>\n",
       "    <tr style=\"text-align: right;\">\n",
       "      <th></th>\n",
       "      <th>a</th>\n",
       "      <th>b</th>\n",
       "    </tr>\n",
       "  </thead>\n",
       "  <tbody>\n",
       "    <tr>\n",
       "      <th>0</th>\n",
       "      <td>1</td>\n",
       "      <td>4</td>\n",
       "    </tr>\n",
       "    <tr>\n",
       "      <th>1</th>\n",
       "      <td>2</td>\n",
       "      <td>6</td>\n",
       "    </tr>\n",
       "    <tr>\n",
       "      <th>2</th>\n",
       "      <td>4</td>\n",
       "      <td>7</td>\n",
       "    </tr>\n",
       "  </tbody>\n",
       "</table>\n",
       "</div>"
      ],
      "text/plain": [
       "   a  b\n",
       "0  1  4\n",
       "1  2  6\n",
       "2  4  7"
      ]
     },
     "execution_count": 12,
     "metadata": {},
     "output_type": "execute_result"
    }
   ],
   "source": [
    "df"
   ]
  },
  {
   "cell_type": "markdown",
   "id": "5ea22183",
   "metadata": {},
   "source": [
    "# Matplotlib"
   ]
  },
  {
   "cell_type": "code",
   "execution_count": 16,
   "id": "6afdd351",
   "metadata": {},
   "outputs": [],
   "source": [
    "x = [3,5,6,7,8,3,2,6,1]\n",
    "y = [100,200,150,90,80,111,122,120,130]"
   ]
  },
  {
   "cell_type": "code",
   "execution_count": 17,
   "id": "581474f9",
   "metadata": {},
   "outputs": [
    {
     "data": {
      "application/javascript": [
       "\n",
       "        if (window._pyforest_update_imports_cell) { window._pyforest_update_imports_cell('import pandas as pd\\nimport matplotlib.pyplot as plt\\nimport numpy as np'); }\n",
       "    "
      ],
      "text/plain": [
       "<IPython.core.display.Javascript object>"
      ]
     },
     "metadata": {},
     "output_type": "display_data"
    },
    {
     "data": {
      "application/javascript": [
       "\n",
       "        if (window._pyforest_update_imports_cell) { window._pyforest_update_imports_cell('import pandas as pd\\nimport matplotlib.pyplot as plt\\nimport numpy as np'); }\n",
       "    "
      ],
      "text/plain": [
       "<IPython.core.display.Javascript object>"
      ]
     },
     "metadata": {},
     "output_type": "display_data"
    },
    {
     "data": {
      "image/png": "[encoded data removed]",
      "text/plain": [
       "<Figure size 640x480 with 1 Axes>"
      ]
     },
     "metadata": {},
     "output_type": "display_data"
    }
   ],
   "source": [
    "plt.scatter(x,y)\n",
    "plt.show()"
   ]
  },
  {
   "cell_type": "code",
   "execution_count": null,
   "id": "3fafa0ea",
   "metadata": {},
   "outputs": [],
   "source": []
  }
 ],
 "metadata": {
  "kernelspec": {
   "display_name": "Python 3 (ipykernel)",
   "language": "python",
   "name": "python3"
  },
  "language_info": {
   "codemirror_mode": {
    "name": "ipython",
    "version": 3
   },
   "file_extension": ".py",
   "mimetype": "text/x-python",
   "name": "python",
   "nbconvert_exporter": "python",
   "pygments_lexer": "ipython3",
   "version": "3.10.6"
  }
 },
 "nbformat": 4,
 "nbformat_minor": 5
}
